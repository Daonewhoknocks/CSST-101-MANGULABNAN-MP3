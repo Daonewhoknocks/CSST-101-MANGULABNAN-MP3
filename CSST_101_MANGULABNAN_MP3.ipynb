{
  "nbformat": 4,
  "nbformat_minor": 0,
  "metadata": {
    "colab": {
      "provenance": []
    },
    "kernelspec": {
      "name": "python3",
      "display_name": "Python 3"
    },
    "language_info": {
      "name": "python"
    }
  },
  "cells": [
    {
      "cell_type": "code",
      "execution_count": 2,
      "metadata": {
        "colab": {
          "base_uri": "https://localhost:8080/"
        },
        "id": "3U_RY0ov_Bj1",
        "outputId": "af5572e9-e161-4b64-9d47-25e515bd46d5"
      },
      "outputs": [
        {
          "output_type": "stream",
          "name": "stdout",
          "text": [
            "Enter the probability of event A: 0.3\n",
            "Enter the probability of event B: 0.4\n",
            "Enter the probability of event BA: 0.12\n",
            "Joint probability: 0.12\n",
            "Marginal probability 0.58\n",
            "Conditional probability: 0.08999999999999998\n"
          ]
        }
      ],
      "source": [
        "def jprobability(pA, pB):\n",
        "  return pA * pB\n",
        "\n",
        "def mprobability(pA, pB):\n",
        "  return pA + pB - jprobability(pA, pB)\n",
        "\n",
        "def cprobability(pBA, pA, pB):\n",
        "  return (pBA * pA) / pB\n",
        "\n",
        "pA = float(input(\"Enter the probability of event A: \"))\n",
        "pB = float(input(\"Enter the probability of event B: \"))\n",
        "pBA = float(input(\"Enter the probability of event BA: \"))\n",
        "\n",
        "print(f\"Joint probability: {jprobability(pA, pB)}\")\n",
        "print(f\"Marginal probability {mprobability(pA, pB)}\")\n",
        "print(f\"Conditional probability: {cprobability(pBA, pA, pB)}\")"
      ]
    }
  ]
}