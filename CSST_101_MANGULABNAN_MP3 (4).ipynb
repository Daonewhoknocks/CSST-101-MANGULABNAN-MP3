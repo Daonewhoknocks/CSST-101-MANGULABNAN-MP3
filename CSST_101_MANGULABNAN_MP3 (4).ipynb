{
  "nbformat": 4,
  "nbformat_minor": 0,
  "metadata": {
    "colab": {
      "provenance": []
    },
    "kernelspec": {
      "name": "python3",
      "display_name": "Python 3"
    },
    "language_info": {
      "name": "python"
    }
  },
  "cells": [
    {
      "cell_type": "code",
      "execution_count": 8,
      "metadata": {
        "colab": {
          "base_uri": "https://localhost:8080/"
        },
        "id": "MFmSBRzGoZNJ",
        "outputId": "57faec3b-53a3-45bd-d8f7-1e2f70e4ef12"
      },
      "outputs": [
        {
          "output_type": "stream",
          "name": "stdout",
          "text": [
            "Enter the humidity level: .8\n",
            "Enter the cloud cover level: .6\n",
            "Probability of rain: 0.48\n"
          ]
        }
      ],
      "source": [
        "def jprobability(pA, pB):\n",
        "  return pA * pB\n",
        "\n",
        "\n",
        "pA = float(input(\"Enter the humidity level: \"))\n",
        "pB = float(input(\"Enter the cloud cover level: \"))\n",
        "\n",
        "print(f\"Probability of rain: {jprobability(pA, pB)}\")"
      ]
    }
  ]
}