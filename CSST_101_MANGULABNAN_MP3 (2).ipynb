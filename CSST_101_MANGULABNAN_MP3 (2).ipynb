{
  "nbformat": 4,
  "nbformat_minor": 0,
  "metadata": {
    "colab": {
      "provenance": []
    },
    "kernelspec": {
      "name": "python3",
      "display_name": "Python 3"
    },
    "language_info": {
      "name": "python"
    }
  },
  "cells": [
    {
      "cell_type": "code",
      "source": [
        "import numpy as np"
      ],
      "metadata": {
        "id": "ePgw-kPIIQQF"
      },
      "execution_count": 1,
      "outputs": []
    },
    {
      "cell_type": "code",
      "execution_count": 7,
      "metadata": {
        "id": "sG1gSUAhHMPs",
        "colab": {
          "base_uri": "https://localhost:8080/"
        },
        "outputId": "49ab8fac-55af-497c-ebd6-f5abcd4a717d"
      },
      "outputs": [
        {
          "output_type": "stream",
          "name": "stdout",
          "text": [
            "Enter the probability of success: .7\n",
            "Enter the reward of success: 1000\n",
            "Enter the penalty of failure: -500\n",
            "Expected value of decision: 545.5\n"
          ]
        }
      ],
      "source": [
        "def decision(psuccess, rsuccess, rfailure, simulation = 1000):\n",
        "  outcome = []\n",
        "  for _ in range(simulation):\n",
        "      if np.random.rand() < psuccess:\n",
        "          outcome.append(rsuccess)\n",
        "      else:\n",
        "          outcome.append(rfailure)\n",
        "\n",
        "  return np.mean(outcome)\n",
        "\n",
        "psuccess = float(input(\"Enter the probability of success: \"))\n",
        "rsuccess = float(input(\"Enter the reward of success: \"))\n",
        "rfailure = float(input(\"Enter the penalty of failure: \"))\n",
        "\n",
        "aoutcome = decision(psuccess, rsuccess, rfailure)\n",
        "print(f\"Expected value of decision: {aoutcome}\")"
      ]
    }
  ]
}